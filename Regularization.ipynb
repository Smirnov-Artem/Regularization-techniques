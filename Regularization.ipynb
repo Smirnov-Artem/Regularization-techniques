{
 "cells": [
  {
   "cell_type": "code",
   "execution_count": 2,
   "metadata": {},
   "outputs": [],
   "source": [
    "from sklearn.linear_model import Ridge"
   ]
  },
  {
   "cell_type": "code",
   "execution_count": 3,
   "metadata": {},
   "outputs": [],
   "source": [
    "import pandas as pd\n",
    "import numpy as np\n",
    "from pandas import Series"
   ]
  },
  {
   "cell_type": "code",
   "execution_count": 4,
   "metadata": {},
   "outputs": [],
   "source": [
    "import matplotlib.pyplot as plt"
   ]
  },
  {
   "cell_type": "code",
   "execution_count": 5,
   "metadata": {},
   "outputs": [],
   "source": [
    "from sklearn.preprocessing import StandardScaler"
   ]
  },
  {
   "cell_type": "code",
   "execution_count": 6,
   "metadata": {},
   "outputs": [],
   "source": [
    "from sklearn.metrics import mean_squared_error"
   ]
  },
  {
   "cell_type": "code",
   "execution_count": 7,
   "metadata": {},
   "outputs": [],
   "source": [
    "from sklearn.model_selection import train_test_split"
   ]
  },
  {
   "cell_type": "code",
   "execution_count": 8,
   "metadata": {},
   "outputs": [],
   "source": [
    "cols = [\"Y1\", \"X3_dummy\", \"X4\", \"X5\", \"X6\", \"X7\", \"X8\", \"X9\", \"X10\", \"X11\", \"X12\", \"X13\", \"X14_dummy\", \"logX15\", \"logX16\", \"X17\", \"X18\", \"X19\", \"logX20\", \"logX21\", \"X22\", \"X23_dummy\", \"X24_dummy\", \"X25\", \"X26\", \"X27\", \"X28\", \"X29\"]"
   ]
  },
  {
   "cell_type": "code",
   "execution_count": 9,
   "metadata": {},
   "outputs": [],
   "source": [
    "df = pd.read_csv('/Users/artemsmirnov/Desktop/Pictures/alpha_alpha.txt', sep=\" \", header=None, names=cols)"
   ]
  },
  {
   "cell_type": "code",
   "execution_count": 10,
   "metadata": {},
   "outputs": [],
   "source": [
    "#split data into test and train sets\n",
    "split = train_test_split(df, test_size=0.25, random_state=42)\n",
    "(trainAttrX, testAttrX) = split\n",
    "trainY = trainAttrX[\"Y1\"]\n",
    "testY = testAttrX[\"Y1\"]"
   ]
  },
  {
   "cell_type": "code",
   "execution_count": 11,
   "metadata": {},
   "outputs": [],
   "source": [
    "#pd.DataFrame(trainY).to_excel('trainY_log_scale.xlsx')"
   ]
  },
  {
   "cell_type": "code",
   "execution_count": 12,
   "metadata": {},
   "outputs": [],
   "source": [
    "#we have to standardize our data only after splitting"
   ]
  },
  {
   "cell_type": "code",
   "execution_count": 13,
   "metadata": {},
   "outputs": [],
   "source": [
    "trainAttrX = trainAttrX.drop('Y1', axis=1)\n",
    "#trainAttrX = trainAttrX.drop('No', axis=1)\n",
    "testAttrX = testAttrX.drop('Y1', axis=1)\n",
    "#testAttrX = testAttrX.drop('No', axis=1)\n",
    "\n",
    "cs = StandardScaler()\n",
    "trainAttrX = cs.fit_transform(trainAttrX)\n",
    "testAttrX = cs.transform(testAttrX)"
   ]
  },
  {
   "cell_type": "code",
   "execution_count": 15,
   "metadata": {},
   "outputs": [
    {
     "data": {
      "text/plain": [
       "83    1.837094\n",
       "53    3.400836\n",
       "70    3.303908\n",
       "45    3.786768\n",
       "44    3.846736\n",
       "39    3.428673\n",
       "22    3.889968\n",
       "80    2.608410\n",
       "10    3.315883\n",
       "0     4.789782\n",
       "18    4.135984\n",
       "30    4.656339\n",
       "73    2.529243\n",
       "33    1.142603\n",
       "90    2.676285\n",
       "4     4.124488\n",
       "76    3.828405\n",
       "77    3.885701\n",
       "12    3.529951\n",
       "31    4.308572\n",
       "55    3.607690\n",
       "88    1.430382\n",
       "26    3.846506\n",
       "42    3.903364\n",
       "69    3.523201\n",
       "Name: Y1, dtype: float64"
      ]
     },
     "execution_count": 15,
     "metadata": {},
     "output_type": "execute_result"
    }
   ],
   "source": [
    "testY"
   ]
  },
  {
   "cell_type": "markdown",
   "metadata": {},
   "source": [
    "# Ridge"
   ]
  },
  {
   "cell_type": "code",
   "execution_count": 399,
   "metadata": {},
   "outputs": [],
   "source": [
    "#fix alpha for Ridge, we should not normalize data after standardization, interception is true\n",
    "ridgeReg = Ridge(alpha=1, normalize=False)"
   ]
  },
  {
   "cell_type": "code",
   "execution_count": 400,
   "metadata": {},
   "outputs": [],
   "source": [
    "alphas = [0.0001, 0.001, 0.01, 0.1, 0.3, 0.5, 0.7, 1]"
   ]
  },
  {
   "cell_type": "code",
   "execution_count": 401,
   "metadata": {},
   "outputs": [
    {
     "name": "stdout",
     "output_type": "stream",
     "text": [
      "Alpha:0.0001, R2:0.00, MSE:0.12, RMSE:0.35\n",
      "Alpha:0.0010, R2:0.00, MSE:0.12, RMSE:0.35\n",
      "Alpha:0.0100, R2:0.00, MSE:0.12, RMSE:0.35\n",
      "Alpha:0.1000, R2:0.00, MSE:0.12, RMSE:0.35\n",
      "Alpha:0.3000, R2:0.00, MSE:0.12, RMSE:0.35\n",
      "Alpha:0.5000, R2:0.00, MSE:0.12, RMSE:0.35\n",
      "Alpha:0.7000, R2:0.00, MSE:0.12, RMSE:0.35\n",
      "Alpha:1.0000, R2:0.00, MSE:0.12, RMSE:0.35\n"
     ]
    }
   ],
   "source": [
    "#this function can help us to find the optimal alpha\n",
    "for a in alphas:\n",
    "    model_ridge = Ridge(alpha=a).fit(trainAttrX,trainY)   \n",
    "    score_ridge = model_ridge.score(trainAttrX,trainY)\n",
    "    pred_y = model_ridge.predict(trainAttrX)\n",
    "    mse = mean_squared_error(trainY, pred_y)   \n",
    "    print(\"Alpha:{0:.4f}, R2:{1:.2f}, MSE:{2:.2f}, RMSE:{3:.2f}\"\n",
    "       .format(a, score, mse, np.sqrt(mse)))"
   ]
  },
  {
   "cell_type": "code",
   "execution_count": 402,
   "metadata": {},
   "outputs": [
    {
     "data": {
      "text/plain": [
       "Ridge(alpha=1, copy_X=True, fit_intercept=True, max_iter=None, normalize=False,\n",
       "      random_state=None, solver='auto', tol=0.001)"
      ]
     },
     "execution_count": 402,
     "metadata": {},
     "output_type": "execute_result"
    }
   ],
   "source": [
    "ridgeReg.fit(trainAttrX,trainY)"
   ]
  },
  {
   "cell_type": "code",
   "execution_count": 403,
   "metadata": {},
   "outputs": [],
   "source": [
    "test_ridge = ridgeReg.predict(testAttrX)"
   ]
  },
  {
   "cell_type": "code",
   "execution_count": 404,
   "metadata": {},
   "outputs": [],
   "source": [
    "mse_ridge = np.mean((test_ridge - testY)**2)"
   ]
  },
  {
   "cell_type": "code",
   "execution_count": 405,
   "metadata": {},
   "outputs": [
    {
     "data": {
      "text/plain": [
       "0.43623723879168486"
      ]
     },
     "execution_count": 405,
     "metadata": {},
     "output_type": "execute_result"
    }
   ],
   "source": [
    "mse_ridge"
   ]
  },
  {
   "cell_type": "code",
   "execution_count": 406,
   "metadata": {},
   "outputs": [
    {
     "data": {
      "text/plain": [
       "0.4621699619660426"
      ]
     },
     "execution_count": 406,
     "metadata": {},
     "output_type": "execute_result"
    }
   ],
   "source": [
    "ridgeReg.score(testAttrX,testY)"
   ]
  },
  {
   "cell_type": "code",
   "execution_count": 407,
   "metadata": {},
   "outputs": [
    {
     "data": {
      "text/plain": [
       "array([-5.82972584e-02,  6.27099911e-03, -3.43934895e-02,  1.04920393e-02,\n",
       "       -1.09658581e-01, -7.00060069e-03, -3.35513708e-02, -2.76091015e-02,\n",
       "        7.79766798e-02,  2.36503542e-01, -6.75945491e-02,  1.10664601e-01,\n",
       "        5.30055086e-02,  8.28566738e-02,  2.78157024e-01,  2.86253494e-01,\n",
       "       -1.06670006e-01,  2.08295437e-01,  3.81140429e-02,  8.20405646e-02,\n",
       "       -8.79393141e-02,  6.03364402e-02, -7.41465926e-03, -5.13685585e-02,\n",
       "        9.75403832e-02, -2.73276625e-04,  1.80028505e-01])"
      ]
     },
     "execution_count": 407,
     "metadata": {},
     "output_type": "execute_result"
    }
   ],
   "source": [
    "ridgeReg.coef_"
   ]
  },
  {
   "cell_type": "code",
   "execution_count": 408,
   "metadata": {},
   "outputs": [],
   "source": [
    "coef = pd.Series(ridgeReg.coef_, predictors).sort_values()"
   ]
  },
  {
   "cell_type": "code",
   "execution_count": 409,
   "metadata": {},
   "outputs": [
    {
     "data": {
      "text/plain": [
       "<matplotlib.axes._subplots.AxesSubplot at 0x12ac51e90>"
      ]
     },
     "execution_count": 409,
     "metadata": {},
     "output_type": "execute_result"
    },
    {
     "data": {
      "image/png": "[encoded data removed]",
      "text/plain": [
       "<Figure size 432x288 with 1 Axes>"
      ]
     },
     "metadata": {
      "needs_background": "light"
     },
     "output_type": "display_data"
    }
   ],
   "source": [
    "#checking the magnitude of coefficients\n",
    "\n",
    "predictors = cols[1:]\n",
    "\n",
    "coef = Series(ridgeReg.coef_,predictors).sort_values()\n",
    "\n",
    "coef.plot(kind='bar', title='Modal Coefficients')\n",
    "#plt.savefig('ridge.png')"
   ]
  },
  {
   "cell_type": "code",
   "execution_count": 410,
   "metadata": {},
   "outputs": [
    {
     "data": {
      "text/plain": [
       "X7          -0.109659\n",
       "X19         -0.106670\n",
       "X23_dummy   -0.087939\n",
       "X13         -0.067595\n",
       "X3_dummy    -0.058297\n",
       "X26         -0.051369\n",
       "X5          -0.034393\n",
       "X9          -0.033551\n",
       "X10         -0.027609\n",
       "X25         -0.007415\n",
       "X8          -0.007001\n",
       "X28         -0.000273\n",
       "X4           0.006271\n",
       "X6           0.010492\n",
       "logX21       0.038114\n",
       "logX15       0.053006\n",
       "X24_dummy    0.060336\n",
       "X11          0.077977\n",
       "X22          0.082041\n",
       "logX16       0.082857\n",
       "X27          0.097540\n",
       "X14_dummy    0.110665\n",
       "X29          0.180029\n",
       "logX20       0.208295\n",
       "X12          0.236504\n",
       "X17          0.278157\n",
       "X18          0.286253\n",
       "dtype: float64"
      ]
     },
     "execution_count": 410,
     "metadata": {},
     "output_type": "execute_result"
    }
   ],
   "source": [
    "#show coefficients of the regression\n",
    "coef"
   ]
  },
  {
   "cell_type": "code",
   "execution_count": 411,
   "metadata": {},
   "outputs": [],
   "source": [
    "alphas = [0.0001, 0.001, 0.01, 0.1, 0.3, 0.5, 0.7, 1]"
   ]
  },
  {
   "cell_type": "code",
   "execution_count": 412,
   "metadata": {},
   "outputs": [],
   "source": [
    "train_ridge = ridgeReg.predict(trainAttrX)\n",
    "pd.DataFrame(train_ridge).to_excel('train_ridge.xlsx')"
   ]
  },
  {
   "cell_type": "code",
   "execution_count": 457,
   "metadata": {},
   "outputs": [],
   "source": [
    "train_ridge = ridgeReg.predict(testAttrX)\n",
    "pd.DataFrame(test_ridge).to_excel('test_ridge.xlsx')"
   ]
  },
  {
   "cell_type": "markdown",
   "metadata": {},
   "source": [
    "# Lasso"
   ]
  },
  {
   "cell_type": "code",
   "execution_count": 413,
   "metadata": {},
   "outputs": [],
   "source": [
    "from sklearn.linear_model import Lasso"
   ]
  },
  {
   "cell_type": "code",
   "execution_count": 414,
   "metadata": {},
   "outputs": [],
   "source": [
    "#same fo lasso, alpha is fixed too\n",
    "lassoReg = Lasso(alpha=0.1, normalize=False)"
   ]
  },
  {
   "cell_type": "code",
   "execution_count": 415,
   "metadata": {},
   "outputs": [
    {
     "data": {
      "text/plain": [
       "Lasso(alpha=0.1, copy_X=True, fit_intercept=True, max_iter=1000,\n",
       "      normalize=False, positive=False, precompute=False, random_state=None,\n",
       "      selection='cyclic', tol=0.0001, warm_start=False)"
      ]
     },
     "execution_count": 415,
     "metadata": {},
     "output_type": "execute_result"
    }
   ],
   "source": [
    "lasso = lassoReg.fit(trainAttrX,trainY)\n",
    "lasso"
   ]
  },
  {
   "cell_type": "code",
   "execution_count": 416,
   "metadata": {},
   "outputs": [
    {
     "name": "stdout",
     "output_type": "stream",
     "text": [
      "Alpha:0.0001, R2:0.00, MSE:0.12, RMSE:0.35\n",
      "Alpha:0.0010, R2:0.00, MSE:0.12, RMSE:0.35\n",
      "Alpha:0.0100, R2:0.00, MSE:0.13, RMSE:0.35\n",
      "Alpha:0.1000, R2:0.00, MSE:0.21, RMSE:0.45\n",
      "Alpha:0.3000, R2:0.00, MSE:0.46, RMSE:0.68\n",
      "Alpha:0.5000, R2:0.00, MSE:0.60, RMSE:0.77\n",
      "Alpha:0.7000, R2:0.00, MSE:0.60, RMSE:0.77\n",
      "Alpha:1.0000, R2:0.00, MSE:0.60, RMSE:0.77\n"
     ]
    }
   ],
   "source": [
    "for a in alphas:\n",
    "    model_lasso = Lasso(alpha=a).fit(trainAttrX,trainY)   \n",
    "    score_lasso = model_lasso.score(trainAttrX,trainY)\n",
    "    pred_y = model_lasso.predict(trainAttrX)\n",
    "    mse = mean_squared_error(trainY, pred_y)   \n",
    "    print(\"Alpha:{0:.4f}, R2:{1:.2f}, MSE:{2:.2f}, RMSE:{3:.2f}\"\n",
    "       .format(a, score, mse, np.sqrt(mse)))"
   ]
  },
  {
   "cell_type": "code",
   "execution_count": 417,
   "metadata": {},
   "outputs": [],
   "source": [
    "test_lasso = lassoReg.predict(testAttrX)"
   ]
  },
  {
   "cell_type": "code",
   "execution_count": 418,
   "metadata": {},
   "outputs": [],
   "source": [
    "# calculating mse"
   ]
  },
  {
   "cell_type": "code",
   "execution_count": 419,
   "metadata": {},
   "outputs": [],
   "source": [
    "mse_lasso = np.mean((test_lasso - testY)**2)"
   ]
  },
  {
   "cell_type": "code",
   "execution_count": 420,
   "metadata": {},
   "outputs": [
    {
     "data": {
      "text/plain": [
       "0.4236421615331068"
      ]
     },
     "execution_count": 420,
     "metadata": {},
     "output_type": "execute_result"
    }
   ],
   "source": [
    "mse_lasso"
   ]
  },
  {
   "cell_type": "code",
   "execution_count": 421,
   "metadata": {},
   "outputs": [
    {
     "data": {
      "text/plain": [
       "0.4776982348383559"
      ]
     },
     "execution_count": 421,
     "metadata": {},
     "output_type": "execute_result"
    }
   ],
   "source": [
    "lassoReg.score(testAttrX,testY)"
   ]
  },
  {
   "cell_type": "code",
   "execution_count": 422,
   "metadata": {},
   "outputs": [],
   "source": [
    "coef = pd.Series(lassoReg.coef_, predictors).sort_values()"
   ]
  },
  {
   "cell_type": "code",
   "execution_count": 423,
   "metadata": {},
   "outputs": [
    {
     "data": {
      "text/plain": [
       "<matplotlib.axes._subplots.AxesSubplot at 0x12af895d0>"
      ]
     },
     "execution_count": 423,
     "metadata": {},
     "output_type": "execute_result"
    },
    {
     "data": {
      "image/png": "[encoded data removed]",
      "text/plain": [
       "<Figure size 432x288 with 1 Axes>"
      ]
     },
     "metadata": {
      "needs_background": "light"
     },
     "output_type": "display_data"
    }
   ],
   "source": [
    "#checking the magnitude of coefficients\n",
    "\n",
    "predictors = cols[1:]\n",
    "\n",
    "coef = Series(lassoReg.coef_,predictors).sort_values()\n",
    "\n",
    "coef.plot(kind='bar', title='Modal Coefficients')"
   ]
  },
  {
   "cell_type": "code",
   "execution_count": 424,
   "metadata": {},
   "outputs": [
    {
     "data": {
      "text/plain": [
       "X3_dummy    -0.000000\n",
       "X4           0.000000\n",
       "X5           0.000000\n",
       "X6          -0.000000\n",
       "X7          -0.000000\n",
       "X27         -0.000000\n",
       "X9           0.000000\n",
       "X10          0.000000\n",
       "X26          0.000000\n",
       "X25         -0.000000\n",
       "X13         -0.000000\n",
       "X24_dummy    0.000000\n",
       "X23_dummy    0.000000\n",
       "X28          0.000000\n",
       "logX21       0.000000\n",
       "X19         -0.000000\n",
       "X29          0.001972\n",
       "X22          0.002293\n",
       "X11          0.050835\n",
       "X14_dummy    0.051312\n",
       "X12          0.060068\n",
       "logX16       0.060339\n",
       "logX15       0.064252\n",
       "X8           0.075952\n",
       "logX20       0.129552\n",
       "X17          0.154332\n",
       "X18          0.213139\n",
       "dtype: float64"
      ]
     },
     "execution_count": 424,
     "metadata": {},
     "output_type": "execute_result"
    }
   ],
   "source": [
    "coef"
   ]
  },
  {
   "cell_type": "code",
   "execution_count": 425,
   "metadata": {},
   "outputs": [],
   "source": [
    "train_lasso = lassoReg.predict(trainAttrX)\n",
    "pd.DataFrame(train_lasso).to_excel('train_lasso.xlsx')"
   ]
  },
  {
   "cell_type": "code",
   "execution_count": 458,
   "metadata": {},
   "outputs": [],
   "source": [
    "test_lasso = lassoReg.predict(testAttrX)\n",
    "pd.DataFrame(test_lasso).to_excel('test_lasso.xlsx')"
   ]
  },
  {
   "cell_type": "markdown",
   "metadata": {},
   "source": [
    "# LARS"
   ]
  },
  {
   "cell_type": "code",
   "execution_count": 426,
   "metadata": {},
   "outputs": [],
   "source": [
    "from sklearn.linear_model import LassoLarsIC"
   ]
  },
  {
   "cell_type": "code",
   "execution_count": 427,
   "metadata": {},
   "outputs": [],
   "source": [
    "import time\n",
    "\n",
    "model_bic = LassoLarsIC(criterion='bic')\n",
    "t1 = time.time()\n",
    "model_bic.fit(testAttrX, testY)\n",
    "t_bic = time.time() - t1\n",
    "alpha_bic_ = model_bic.alpha_"
   ]
  },
  {
   "cell_type": "code",
   "execution_count": 428,
   "metadata": {},
   "outputs": [],
   "source": [
    "EPSILON = 1e-4"
   ]
  },
  {
   "cell_type": "code",
   "execution_count": 429,
   "metadata": {},
   "outputs": [
    {
     "data": {
      "text/plain": [
       "Text(0.5, 1.0, 'Information-criterion for model selection (training time 0.020s)')"
      ]
     },
     "execution_count": 429,
     "metadata": {},
     "output_type": "execute_result"
    },
    {
     "data": {
      "image/png": "[encoded data removed]",
      "text/plain": [
       "<Figure size 432x288 with 1 Axes>"
      ]
     },
     "metadata": {
      "needs_background": "light"
     },
     "output_type": "display_data"
    }
   ],
   "source": [
    "#in this model we don't fix alpha, optimal alpha is output of the function\n",
    "\n",
    "model_bic = LassoLarsIC(criterion='bic')\n",
    "t1 = time.time()\n",
    "model_bic.fit(trainAttrX, trainY)\n",
    "t_bic = time.time() - t1\n",
    "alpha_bic_ = model_bic.alpha_\n",
    "\n",
    "model_aic = LassoLarsIC(criterion='aic')\n",
    "model_aic.fit(trainAttrX, trainY)\n",
    "alpha_aic_ = model_aic.alpha_\n",
    "\n",
    "def plot_ic_criterion(model, name, color):\n",
    "    alpha_ = model.alpha_ + EPSILON\n",
    "    alphas_ = model.alphas_ + EPSILON\n",
    "    criterion_ = model.criterion_\n",
    "    plt.plot(-np.log10(alphas_), criterion_, '--', color=color,\n",
    "             linewidth=3, label='%s criterion' % name)\n",
    "    plt.axvline(-np.log10(alpha_), color=color, linewidth=3,\n",
    "                label='alpha: %s estimate' % name)\n",
    "    plt.xlabel('-log(alpha)')\n",
    "    plt.ylabel('criterion')\n",
    "\n",
    "\n",
    "plt.figure()\n",
    "plot_ic_criterion(model_aic, 'AIC', 'b')\n",
    "plot_ic_criterion(model_bic, 'BIC', 'r')\n",
    "plt.legend()\n",
    "plt.title('Information-criterion for model selection (training time %.3fs)'\n",
    "          % t_bic)"
   ]
  },
  {
   "cell_type": "code",
   "execution_count": 430,
   "metadata": {},
   "outputs": [
    {
     "data": {
      "text/plain": [
       "0.017984192889318674"
      ]
     },
     "execution_count": 430,
     "metadata": {},
     "output_type": "execute_result"
    }
   ],
   "source": [
    "model_bic.alpha_"
   ]
  },
  {
   "cell_type": "code",
   "execution_count": 431,
   "metadata": {},
   "outputs": [
    {
     "data": {
      "text/plain": [
       "41.62892386182156"
      ]
     },
     "execution_count": 431,
     "metadata": {},
     "output_type": "execute_result"
    }
   ],
   "source": [
    "min(model_aic.criterion_)"
   ]
  },
  {
   "cell_type": "code",
   "execution_count": 432,
   "metadata": {},
   "outputs": [
    {
     "data": {
      "text/plain": [
       "0.005202886751709617"
      ]
     },
     "execution_count": 432,
     "metadata": {},
     "output_type": "execute_result"
    }
   ],
   "source": [
    "model_aic.alpha_"
   ]
  },
  {
   "cell_type": "code",
   "execution_count": 433,
   "metadata": {},
   "outputs": [
    {
     "data": {
      "text/plain": [
       "64.89635088732739"
      ]
     },
     "execution_count": 433,
     "metadata": {},
     "output_type": "execute_result"
    }
   ],
   "source": [
    "min(model_bic.criterion_)"
   ]
  },
  {
   "cell_type": "code",
   "execution_count": 434,
   "metadata": {},
   "outputs": [],
   "source": [
    "coef = pd.Series(model_bic.coef_, predictors).sort_values()"
   ]
  },
  {
   "cell_type": "code",
   "execution_count": 435,
   "metadata": {},
   "outputs": [],
   "source": [
    "test_lars = model_bic.predict(testAttrX)"
   ]
  },
  {
   "cell_type": "code",
   "execution_count": 436,
   "metadata": {},
   "outputs": [],
   "source": [
    "coef_new = pd.Series(model_bic.coef_, predictors).sort_values()"
   ]
  },
  {
   "cell_type": "code",
   "execution_count": 437,
   "metadata": {},
   "outputs": [
    {
     "data": {
      "text/plain": [
       "<matplotlib.axes._subplots.AxesSubplot at 0x12b207a10>"
      ]
     },
     "execution_count": 437,
     "metadata": {},
     "output_type": "execute_result"
    },
    {
     "data": {
      "image/png": "[encoded data removed]",
      "text/plain": [
       "<Figure size 432x288 with 1 Axes>"
      ]
     },
     "metadata": {
      "needs_background": "light"
     },
     "output_type": "display_data"
    }
   ],
   "source": [
    "#checking the magnitude of coefficients\n",
    "\n",
    "predictors = cols[1:]\n",
    "\n",
    "coef_new = Series(model_bic.coef_,predictors).sort_values()\n",
    "\n",
    "coef.plot(kind='bar', title='Modal Coefficients')"
   ]
  },
  {
   "cell_type": "code",
   "execution_count": 438,
   "metadata": {},
   "outputs": [
    {
     "data": {
      "text/plain": [
       "X3_dummy     0.000000\n",
       "X27          0.000000\n",
       "X26          0.000000\n",
       "X25          0.000000\n",
       "X24_dummy    0.000000\n",
       "X23_dummy    0.000000\n",
       "X22          0.000000\n",
       "logX21       0.000000\n",
       "X19          0.000000\n",
       "X28          0.000000\n",
       "X14_dummy    0.000000\n",
       "X29          0.000000\n",
       "X12          0.000000\n",
       "X10          0.000000\n",
       "X9           0.000000\n",
       "X7           0.000000\n",
       "X6           0.000000\n",
       "X5           0.000000\n",
       "X4           0.000000\n",
       "X13          0.000000\n",
       "logX15       0.039209\n",
       "X11          0.042354\n",
       "logX16       0.055784\n",
       "X8           0.064623\n",
       "logX20       0.094027\n",
       "X17          0.107752\n",
       "X18          0.189312\n",
       "dtype: float64"
      ]
     },
     "execution_count": 438,
     "metadata": {},
     "output_type": "execute_result"
    }
   ],
   "source": [
    "coef_new"
   ]
  },
  {
   "cell_type": "code",
   "execution_count": 439,
   "metadata": {},
   "outputs": [
    {
     "data": {
      "text/plain": [
       "0.46073371203622593"
      ]
     },
     "execution_count": 439,
     "metadata": {},
     "output_type": "execute_result"
    }
   ],
   "source": [
    "mse_lars = np.mean((test_lars - testY)**2)\n",
    "mse_lars"
   ]
  },
  {
   "cell_type": "code",
   "execution_count": 440,
   "metadata": {},
   "outputs": [],
   "source": [
    "train_lars = model_bic.predict(trainAttrX)\n",
    "pd.DataFrame(train_lars).to_excel('train_lars.xlsx')"
   ]
  },
  {
   "cell_type": "code",
   "execution_count": 459,
   "metadata": {},
   "outputs": [],
   "source": [
    "test_lars = model_bic.predict(testAttrX)\n",
    "pd.DataFrame(test_lars).to_excel('test_lars.xlsx')"
   ]
  },
  {
   "cell_type": "markdown",
   "metadata": {},
   "source": [
    "# Elastic Net"
   ]
  },
  {
   "cell_type": "code",
   "execution_count": 441,
   "metadata": {},
   "outputs": [],
   "source": [
    "from sklearn.linear_model import ElasticNet"
   ]
  },
  {
   "cell_type": "code",
   "execution_count": 442,
   "metadata": {},
   "outputs": [],
   "source": [
    "from sklearn.linear_model import ElasticNet,ElasticNetCV\n",
    "from sklearn.metrics import mean_squared_error\n",
    "from sklearn.model_selection import train_test_split\n",
    "import matplotlib.pyplot as plt\n",
    "import numpy as np"
   ]
  },
  {
   "cell_type": "code",
   "execution_count": 443,
   "metadata": {},
   "outputs": [
    {
     "name": "stdout",
     "output_type": "stream",
     "text": [
      "R2:0.462, MSE:0.44, RMSE:0.66\n"
     ]
    }
   ],
   "source": [
    "elastic=ElasticNet(alpha=0.01).fit(trainAttrX, trainY)\n",
    "ypred = elastic.predict(testAttrX)\n",
    "score = elastic.score(testAttrX, testY)\n",
    "mse = mean_squared_error(testY, ypred)\n",
    "print(\"R2:{0:.3f}, MSE:{1:.2f}, RMSE:{2:.2f}\"\n",
    "      .format(score, mse, np.sqrt(mse)))"
   ]
  },
  {
   "cell_type": "code",
   "execution_count": 444,
   "metadata": {},
   "outputs": [],
   "source": [
    "alphas = [0.0001, 0.001, 0.01, 0.1, 0.3, 0.5, 0.7, 1]"
   ]
  },
  {
   "cell_type": "code",
   "execution_count": 445,
   "metadata": {},
   "outputs": [
    {
     "name": "stdout",
     "output_type": "stream",
     "text": [
      "Alpha:0.0001, R2:0.80, MSE:0.12, RMSE:0.35\n",
      "Alpha:0.0010, R2:0.80, MSE:0.12, RMSE:0.35\n",
      "Alpha:0.0100, R2:0.80, MSE:0.12, RMSE:0.35\n",
      "Alpha:0.1000, R2:0.73, MSE:0.16, RMSE:0.40\n",
      "Alpha:0.3000, R2:0.53, MSE:0.28, RMSE:0.53\n",
      "Alpha:0.5000, R2:0.33, MSE:0.40, RMSE:0.63\n",
      "Alpha:0.7000, R2:0.11, MSE:0.53, RMSE:0.73\n",
      "Alpha:1.0000, R2:0.00, MSE:0.60, RMSE:0.77\n"
     ]
    }
   ],
   "source": [
    "for a in alphas:\n",
    "    model = ElasticNet(alpha=a).fit(trainAttrX,trainY)   \n",
    "    score = model.score(trainAttrX,trainY)\n",
    "    pred_y = model.predict(trainAttrX)\n",
    "    mse = mean_squared_error(trainY, pred_y)   \n",
    "    print(\"Alpha:{0:.4f}, R2:{1:.2f}, MSE:{2:.2f}, RMSE:{3:.2f}\"\n",
    "       .format(a, score, mse, np.sqrt(mse)))"
   ]
  },
  {
   "cell_type": "code",
   "execution_count": null,
   "metadata": {},
   "outputs": [],
   "source": []
  },
  {
   "cell_type": "code",
   "execution_count": 446,
   "metadata": {},
   "outputs": [
    {
     "data": {
      "image/png": "[encoded data removed]",
      "text/plain": [
       "<Figure size 432x288 with 1 Axes>"
      ]
     },
     "metadata": {
      "needs_background": "light"
     },
     "output_type": "display_data"
    }
   ],
   "source": [
    "x_ax = range(len(testAttrX))\n",
    "plt.scatter(x_ax, testY, s=5, color=\"blue\", label=\"original\")\n",
    "plt.plot(x_ax, ypred, lw=0.8, color=\"red\", label=\"predicted\")\n",
    "plt.legend()\n",
    "plt.show()"
   ]
  },
  {
   "cell_type": "code",
   "execution_count": 447,
   "metadata": {},
   "outputs": [],
   "source": [
    "coef_EN = pd.Series(elastic.coef_, predictors).sort_values()"
   ]
  },
  {
   "cell_type": "code",
   "execution_count": 448,
   "metadata": {},
   "outputs": [
    {
     "data": {
      "text/plain": [
       "X19         -0.097100\n",
       "X7          -0.083285\n",
       "X23_dummy   -0.077486\n",
       "X13         -0.054841\n",
       "X3_dummy    -0.037353\n",
       "X26         -0.030177\n",
       "X9          -0.021297\n",
       "X5          -0.012710\n",
       "X10         -0.010309\n",
       "X4          -0.000000\n",
       "X6          -0.000000\n",
       "X8           0.000000\n",
       "X25         -0.000000\n",
       "X28          0.000000\n",
       "logX21       0.034522\n",
       "X24_dummy    0.054183\n",
       "logX15       0.064502\n",
       "X11          0.070335\n",
       "X27          0.074776\n",
       "logX16       0.075300\n",
       "X22          0.075825\n",
       "X14_dummy    0.117402\n",
       "X29          0.156591\n",
       "logX20       0.193821\n",
       "X12          0.222755\n",
       "X18          0.273864\n",
       "X17          0.276697\n",
       "dtype: float64"
      ]
     },
     "execution_count": 448,
     "metadata": {},
     "output_type": "execute_result"
    }
   ],
   "source": [
    "coef_EN"
   ]
  },
  {
   "cell_type": "code",
   "execution_count": 449,
   "metadata": {},
   "outputs": [
    {
     "data": {
      "text/plain": [
       "<matplotlib.axes._subplots.AxesSubplot at 0x12b467b10>"
      ]
     },
     "execution_count": 449,
     "metadata": {},
     "output_type": "execute_result"
    },
    {
     "data": {
      "image/png": "[encoded data removed]",
      "text/plain": [
       "<Figure size 432x288 with 1 Axes>"
      ]
     },
     "metadata": {
      "needs_background": "light"
     },
     "output_type": "display_data"
    }
   ],
   "source": [
    "#checking the magnitude of coefficients\n",
    "\n",
    "predictors = cols[1:]\n",
    "\n",
    "coef_EN = Series(elastic.coef_,predictors).sort_values()\n",
    "\n",
    "coef.plot(kind='bar', title='Modal Coefficients')"
   ]
  },
  {
   "cell_type": "code",
   "execution_count": 450,
   "metadata": {},
   "outputs": [],
   "source": [
    "test_en = elastic.predict(testAttrX)"
   ]
  },
  {
   "cell_type": "code",
   "execution_count": 451,
   "metadata": {},
   "outputs": [
    {
     "data": {
      "text/plain": [
       "0.4364612847150486"
      ]
     },
     "execution_count": 451,
     "metadata": {},
     "output_type": "execute_result"
    }
   ],
   "source": [
    "mse_en = np.mean((test_en - testY)**2)\n",
    "mse_en"
   ]
  },
  {
   "cell_type": "code",
   "execution_count": 452,
   "metadata": {},
   "outputs": [],
   "source": [
    "train_en = elastic.predict(trainAttrX)"
   ]
  },
  {
   "cell_type": "code",
   "execution_count": 453,
   "metadata": {},
   "outputs": [],
   "source": [
    "pd.DataFrame(train_en).to_excel('train_en.xlsx')"
   ]
  },
  {
   "cell_type": "code",
   "execution_count": 460,
   "metadata": {},
   "outputs": [],
   "source": [
    "test_en = elastic.predict(testAttrX)\n",
    "pd.DataFrame(test_en).to_excel('test_en.xlsx')"
   ]
  },
  {
   "cell_type": "code",
   "execution_count": 454,
   "metadata": {},
   "outputs": [
    {
     "ename": "AttributeError",
     "evalue": "'ElasticNet' object has no attribute 'alpha_'",
     "output_type": "error",
     "traceback": [
      "\u001b[0;31m---------------------------------------------------------------------------\u001b[0m",
      "\u001b[0;31mAttributeError\u001b[0m                            Traceback (most recent call last)",
      "\u001b[0;32m<ipython-input-454-90f9fc10d45f>\u001b[0m in \u001b[0;36m<module>\u001b[0;34m\u001b[0m\n\u001b[0;32m----> 1\u001b[0;31m \u001b[0mmodel\u001b[0m\u001b[0;34m.\u001b[0m\u001b[0malpha_\u001b[0m\u001b[0;34m\u001b[0m\u001b[0;34m\u001b[0m\u001b[0m\n\u001b[0m",
      "\u001b[0;31mAttributeError\u001b[0m: 'ElasticNet' object has no attribute 'alpha_'"
     ]
    }
   ],
   "source": [
    "model.alpha_"
   ]
  },
  {
   "cell_type": "code",
   "execution_count": 455,
   "metadata": {},
   "outputs": [
    {
     "data": {
      "text/plain": [
       "ElasticNet(alpha=1, copy_X=True, fit_intercept=True, l1_ratio=0.5,\n",
       "           max_iter=1000, normalize=False, positive=False, precompute=False,\n",
       "           random_state=None, selection='cyclic', tol=0.0001, warm_start=False)"
      ]
     },
     "execution_count": 455,
     "metadata": {},
     "output_type": "execute_result"
    }
   ],
   "source": [
    "model"
   ]
  },
  {
   "cell_type": "code",
   "execution_count": null,
   "metadata": {},
   "outputs": [],
   "source": []
  },
  {
   "cell_type": "code",
   "execution_count": 456,
   "metadata": {},
   "outputs": [
    {
     "ename": "AttributeError",
     "evalue": "type object 'LassoLarsIC' has no attribute 'alpha_'",
     "output_type": "error",
     "traceback": [
      "\u001b[0;31m---------------------------------------------------------------------------\u001b[0m",
      "\u001b[0;31mAttributeError\u001b[0m                            Traceback (most recent call last)",
      "\u001b[0;32m<ipython-input-456-53c22808256e>\u001b[0m in \u001b[0;36m<module>\u001b[0;34m\u001b[0m\n\u001b[0;32m----> 1\u001b[0;31m \u001b[0mLassoLarsIC\u001b[0m\u001b[0;34m.\u001b[0m\u001b[0malpha_\u001b[0m\u001b[0;34m\u001b[0m\u001b[0;34m\u001b[0m\u001b[0m\n\u001b[0m",
      "\u001b[0;31mAttributeError\u001b[0m: type object 'LassoLarsIC' has no attribute 'alpha_'"
     ]
    }
   ],
   "source": [
    "LassoLarsIC.alpha_"
   ]
  },
  {
   "cell_type": "code",
   "execution_count": null,
   "metadata": {},
   "outputs": [],
   "source": []
  }
 ],
 "metadata": {
  "kernelspec": {
   "display_name": "Python 3",
   "language": "python",
   "name": "python3"
  },
  "language_info": {
   "codemirror_mode": {
    "name": "ipython",
    "version": 3
   },
   "file_extension": ".py",
   "mimetype": "text/x-python",
   "name": "python",
   "nbconvert_exporter": "python",
   "pygments_lexer": "ipython3",
   "version": "3.7.4"
  }
 },
 "nbformat": 4,
 "nbformat_minor": 2
}
